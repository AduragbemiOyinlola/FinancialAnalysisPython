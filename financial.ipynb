{
 "cells": [
  {
   "cell_type": "markdown",
   "metadata": {},
   "source": [
    "### **FINANCIAL ANALYSIS USING PYTHON**"
   ]
  },
  {
   "cell_type": "code",
   "execution_count": 2,
   "metadata": {},
   "outputs": [
    {
     "name": "stderr",
     "output_type": "stream",
     "text": [
      "[*********************100%***********************]  1 of 1 completed\n",
      "[*********************100%***********************]  1 of 1 completed\n",
      "[*********************100%***********************]  1 of 1 completed\n",
      "[*********************100%***********************]  1 of 1 completed\n",
      "[*********************100%***********************]  1 of 1 completed\n",
      "[*********************100%***********************]  1 of 1 completed\n",
      "[*********************100%***********************]  1 of 1 completed\n"
     ]
    }
   ],
   "source": [
    "import pandas as pd\n",
    "import yfinance as yf\n",
    "from datetime import datetime as dt\n",
    "\n",
    "# Define stock symbols and company names\n",
    "stock_lst = ['GOOG', 'AMZN','MSFT', 'IBM', 'AAPL', 'TSLA', 'NVDA']\n",
    "company_list = ['Alphabet Inc.', 'Amazon.com, Inc.','Microsoft Corporation', \n",
    "                'International Business Machines Corporation', 'Apple Inc.', 'Tesla, Inc.', 'NVIDIA Corporation']\n",
    "\n",
    "# Set date range for data collection\n",
    "end_date = dt.now()\n",
    "start_date = dt(end_date.year - 10, end_date.month, end_date.day)\n",
    "\n",
    "# Collect stock data into a single DataFrame\n",
    "stock_data = pd.DataFrame()\n",
    "for stock, company in zip(stock_lst, company_list):\n",
    "    company_stock = yf.download(stock, start=start_date, end=end_date)\n",
    "    company_stock['Company'] = company\n",
    "    company_stock['Stock'] = stock\n",
    "    stock_data = pd.concat([stock_data, company_stock])"
   ]
  },
  {
   "cell_type": "code",
   "execution_count": 3,
   "metadata": {},
   "outputs": [
    {
     "data": {
      "text/html": [
       "<div>\n",
       "<style scoped>\n",
       "    .dataframe tbody tr th:only-of-type {\n",
       "        vertical-align: middle;\n",
       "    }\n",
       "\n",
       "    .dataframe tbody tr th {\n",
       "        vertical-align: top;\n",
       "    }\n",
       "\n",
       "    .dataframe thead th {\n",
       "        text-align: right;\n",
       "    }\n",
       "</style>\n",
       "<table border=\"1\" class=\"dataframe\">\n",
       "  <thead>\n",
       "    <tr style=\"text-align: right;\">\n",
       "      <th></th>\n",
       "      <th>Date</th>\n",
       "      <th>Open</th>\n",
       "      <th>High</th>\n",
       "      <th>Low</th>\n",
       "      <th>Close</th>\n",
       "      <th>Adj Close</th>\n",
       "      <th>Volume</th>\n",
       "      <th>Company</th>\n",
       "      <th>Stock</th>\n",
       "    </tr>\n",
       "  </thead>\n",
       "  <tbody>\n",
       "    <tr>\n",
       "      <th>0</th>\n",
       "      <td>2014-10-02</td>\n",
       "      <td>28.287836</td>\n",
       "      <td>28.517206</td>\n",
       "      <td>28.088882</td>\n",
       "      <td>28.425957</td>\n",
       "      <td>28.356318</td>\n",
       "      <td>23568530</td>\n",
       "      <td>Alphabet Inc.</td>\n",
       "      <td>GOOG</td>\n",
       "    </tr>\n",
       "    <tr>\n",
       "      <th>1</th>\n",
       "      <td>2014-10-03</td>\n",
       "      <td>28.574051</td>\n",
       "      <td>28.782228</td>\n",
       "      <td>28.546625</td>\n",
       "      <td>28.685246</td>\n",
       "      <td>28.614973</td>\n",
       "      <td>22834521</td>\n",
       "      <td>Alphabet Inc.</td>\n",
       "      <td>GOOG</td>\n",
       "    </tr>\n",
       "    <tr>\n",
       "      <th>2</th>\n",
       "      <td>2014-10-06</td>\n",
       "      <td>28.860764</td>\n",
       "      <td>28.970463</td>\n",
       "      <td>28.643360</td>\n",
       "      <td>28.788462</td>\n",
       "      <td>28.717936</td>\n",
       "      <td>24292512</td>\n",
       "      <td>Alphabet Inc.</td>\n",
       "      <td>GOOG</td>\n",
       "    </tr>\n",
       "    <tr>\n",
       "      <th>3</th>\n",
       "      <td>2014-10-07</td>\n",
       "      <td>28.641365</td>\n",
       "      <td>28.684746</td>\n",
       "      <td>28.109823</td>\n",
       "      <td>28.109823</td>\n",
       "      <td>28.040958</td>\n",
       "      <td>38226664</td>\n",
       "      <td>Alphabet Inc.</td>\n",
       "      <td>GOOG</td>\n",
       "    </tr>\n",
       "    <tr>\n",
       "      <th>4</th>\n",
       "      <td>2014-10-08</td>\n",
       "      <td>28.201075</td>\n",
       "      <td>28.615437</td>\n",
       "      <td>27.798180</td>\n",
       "      <td>28.546625</td>\n",
       "      <td>28.476690</td>\n",
       "      <td>39817018</td>\n",
       "      <td>Alphabet Inc.</td>\n",
       "      <td>GOOG</td>\n",
       "    </tr>\n",
       "  </tbody>\n",
       "</table>\n",
       "</div>"
      ],
      "text/plain": [
       "        Date       Open       High        Low      Close  Adj Close    Volume  \\\n",
       "0 2014-10-02  28.287836  28.517206  28.088882  28.425957  28.356318  23568530   \n",
       "1 2014-10-03  28.574051  28.782228  28.546625  28.685246  28.614973  22834521   \n",
       "2 2014-10-06  28.860764  28.970463  28.643360  28.788462  28.717936  24292512   \n",
       "3 2014-10-07  28.641365  28.684746  28.109823  28.109823  28.040958  38226664   \n",
       "4 2014-10-08  28.201075  28.615437  27.798180  28.546625  28.476690  39817018   \n",
       "\n",
       "         Company Stock  \n",
       "0  Alphabet Inc.  GOOG  \n",
       "1  Alphabet Inc.  GOOG  \n",
       "2  Alphabet Inc.  GOOG  \n",
       "3  Alphabet Inc.  GOOG  \n",
       "4  Alphabet Inc.  GOOG  "
      ]
     },
     "execution_count": 3,
     "metadata": {},
     "output_type": "execute_result"
    }
   ],
   "source": [
    "# Show the DataFrame\n",
    "stock_data.reset_index(inplace=True)\n",
    "stock_data.head()"
   ]
  },
  {
   "cell_type": "code",
   "execution_count": null,
   "metadata": {},
   "outputs": [],
   "source": []
  }
 ],
 "metadata": {
  "kernelspec": {
   "display_name": "Python 3",
   "language": "python",
   "name": "python3"
  },
  "language_info": {
   "codemirror_mode": {
    "name": "ipython",
    "version": 3
   },
   "file_extension": ".py",
   "mimetype": "text/x-python",
   "name": "python",
   "nbconvert_exporter": "python",
   "pygments_lexer": "ipython3",
   "version": "3.12.2"
  }
 },
 "nbformat": 4,
 "nbformat_minor": 2
}
